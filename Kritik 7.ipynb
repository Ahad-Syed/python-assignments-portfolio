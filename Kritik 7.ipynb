{
 "cells": [
  {
   "cell_type": "code",
   "execution_count": 1,
   "id": "cfa44cbf",
   "metadata": {},
   "outputs": [
    {
     "ename": "SyntaxError",
     "evalue": "invalid syntax (3886603555.py, line 4)",
     "output_type": "error",
     "traceback": [
      "\u001b[0;36m  Cell \u001b[0;32mIn[1], line 4\u001b[0;36m\u001b[0m\n\u001b[0;31m    def calculate_t (sample mean, null_mean, sample_std_dev, sample_size):\u001b[0m\n\u001b[0m                            ^\u001b[0m\n\u001b[0;31mSyntaxError\u001b[0m\u001b[0;31m:\u001b[0m invalid syntax\n"
     ]
    }
   ],
   "source": [
    "import numpy as np\n",
    "from scipy.stats import t as t_distribution \n",
    "\n",
    "def calculate_t (sample mean, null_mean, sample_std_dev, sample_size):\n",
    "    \n",
    "    numerator = sample_mean - null_mean\n",
    "    denominator = sample_std_dev / np.sqrt(sample_size)\n",
    "    t_value = numerator/denominator\n",
    "    return t_value\n",
    "\n",
    "def find_critical_value(alpha, degrees_of_freedom):\n",
    "    critical_value = t_distribution.ppf (1-alpha/2, degrees_of_freedom)\n",
    "    return critical_value\n",
    "\n",
    "def perform_test (scores, null_hypothesis):\n",
    "    sample_mean = np.mean(scores)\n",
    "    sample_std_dev = np.std(scores, ddof=1)\n",
    "    sample_size = len(scores)\n",
    "    \n",
    "    t_values = calculate_t(sample_mean, null_hypothesis, sample_std_dev, sample_size)\n",
    "    degrees_of_freedom = sample_size - 1\n",
    "    critical_value = find_critical_value(0.05, degrees_of_freedom)\n",
    "    \n",
    "    if-1*critical_value < t_value < critical_value:\n",
    "        print (\"null hypothesis is true\")\n",
    "    else:\n",
    "        print(\"null hypothesis is false\")\n",
    "        \n",
    "def main():\n",
    "    scores = [92.64, 79.00, 84.79, 97.41, 93.68, 65.23, 84.50, 73.49, 73.97, 79.11]\n",
    "    null_hypothesis = 75\n",
    "    \n",
    "    perform_test(scores, null_hypothesis)\n",
    "    \n",
    "if _name_ == \"__main__\":\n",
    "    main()"
   ]
  },
  {
   "cell_type": "code",
   "execution_count": 2,
   "id": "1b479560",
   "metadata": {},
   "outputs": [
    {
     "name": "stdout",
     "output_type": "stream",
     "text": [
      "Null hypothesis is false\n"
     ]
    }
   ],
   "source": [
    "import numpy as np\n",
    "from scipy.stats import t as t_distribution \n",
    "\n",
    "def calculate_t(sample_mean, null_mean, sample_std_dev, sample_size):\n",
    "    numerator = sample_mean - null_mean\n",
    "    denominator = sample_std_dev / np.sqrt(sample_size)\n",
    "    t_value = numerator / denominator\n",
    "    return t_value\n",
    "\n",
    "def find_critical_value(alpha, independent_samples):\n",
    "    critical_value = t_distribution.ppf(1 - alpha / 2, independent_samples)\n",
    "    return critical_value\n",
    "\n",
    "def perform_test(scores, null_hypothesis):\n",
    "    sample_mean = np.mean(scores)\n",
    "    sample_std_dev = np.std(scores, ddof=1)\n",
    "    sample_size = len(scores)\n",
    "    \n",
    "    t_value = calculate_t(sample_mean, null_hypothesis, sample_std_dev, sample_size)\n",
    "    independent_samples = sample_size - 1\n",
    "    critical_value = find_critical_value(0.05, independent_samples)\n",
    "    \n",
    "    if -critical_value < t_value < critical_value:\n",
    "        print(\"Null hypothesis is true\")\n",
    "    else:\n",
    "        print(\"Null hypothesis is false\")\n",
    "\n",
    "def main():\n",
    "    scores = [92.64, 79.00, 84.79, 97.41, 93.68, 65.23, 84.50, 73.49, 73.97, 79.11]\n",
    "    null_hypothesis = 75\n",
    "    \n",
    "    perform_test(scores, null_hypothesis)\n",
    "\n",
    "if __name__ == \"__main__\":\n",
    "    main()\n"
   ]
  },
  {
   "cell_type": "code",
   "execution_count": null,
   "id": "3f9d888c",
   "metadata": {},
   "outputs": [],
   "source": []
  }
 ],
 "metadata": {
  "kernelspec": {
   "display_name": "Python 3 (ipykernel)",
   "language": "python",
   "name": "python3"
  },
  "language_info": {
   "codemirror_mode": {
    "name": "ipython",
    "version": 3
   },
   "file_extension": ".py",
   "mimetype": "text/x-python",
   "name": "python",
   "nbconvert_exporter": "python",
   "pygments_lexer": "ipython3",
   "version": "3.11.4"
  }
 },
 "nbformat": 4,
 "nbformat_minor": 5
}
