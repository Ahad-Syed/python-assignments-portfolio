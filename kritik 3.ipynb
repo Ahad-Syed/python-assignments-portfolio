{
 "cells": [
  {
   "cell_type": "code",
   "execution_count": 2,
   "id": "6b4dbaf8-5621-4a8b-92c6-9eaa625fa40a",
   "metadata": {},
   "outputs": [
    {
     "name": "stdout",
     "output_type": "stream",
     "text": [
      "-1e-05\n",
      "1e-05\n"
     ]
    }
   ],
   "source": [
    "import numpy as np\n",
    "\n",
    "def greg(x): \n",
    "    return (np.e)**x\n",
    "c=0\n",
    "E=0.01\n",
    "\n",
    "n=100\n",
    "x1=c\n",
    "x2=c\n",
    "delx=10**(-8)\n",
    "d=0.00001\n",
    "def fPrime(x):\n",
    "    return (greg(x+delx)-greg(x-delx))/(2*delx)\n",
    "def L(x):\n",
    "    return greg(c)+ fPrime(c)*(x-c)\n",
    "for i in range(n):\n",
    "    x1-=d\n",
    "    if abs(greg(x1)-L(x1))<= E:\n",
    "        print (x1)\n",
    "        break\n",
    "else: \n",
    "    print (\"no such x1 can be aquired!\")\n",
    "\n",
    "for i in range (n):\n",
    "    x2+=d\n",
    "    if abs(greg(x2)-L(x2))<= E:\n",
    "        print (x2)\n",
    "        break\n",
    "else: \n",
    "    print (\"no such x2 can be aquired!\")\n"
   ]
  },
  {
   "cell_type": "code",
   "execution_count": 4,
   "id": "6d3d541a-6b2f-44a4-8dfb-f0f2bf1a93ea",
   "metadata": {},
   "outputs": [
    {
     "name": "stdout",
     "output_type": "stream",
     "text": [
      "0.7853881633974483\n",
      "0.7854081633974482\n"
     ]
    }
   ],
   "source": [
    "import numpy as np\n",
    "\n",
    "def greg(x): \n",
    "    return np.sin(x)\n",
    "c=(np.pi)/4\n",
    "E=0.05\n",
    "\n",
    "n=100\n",
    "x1=c\n",
    "x2=c\n",
    "delx=10**(-8)\n",
    "d=0.00001\n",
    "def fPrime(x):\n",
    "    return (greg(x+delx)-greg(x-delx))/(2*delx)\n",
    "def L(x):\n",
    "    return greg(c)+ fPrime(c)*(x-c)\n",
    "for i in range(n):\n",
    "    x1-=d\n",
    "    if abs(greg(x1)-L(x1))<= E:\n",
    "        print (x1)\n",
    "        break\n",
    "else: \n",
    "    print (\"no such x1 can be aquired!\")\n",
    "\n",
    "for i in range (n):\n",
    "    x2+=d\n",
    "    if abs(greg(x2)-L(x2))<= E:\n",
    "        print (x2)\n",
    "        break\n",
    "else: \n",
    "    print (\"no such x2 can be aquired!\")\n"
   ]
  },
  {
   "cell_type": "code",
   "execution_count": 5,
   "id": "4e379ffc-5b45-42af-9cd3-0ed76dac8c69",
   "metadata": {},
   "outputs": [
    {
     "name": "stdout",
     "output_type": "stream",
     "text": [
      "0.99999\n",
      "1.00001\n"
     ]
    }
   ],
   "source": [
    "import numpy as np\n",
    "\n",
    "def greg(x): \n",
    "    return x**2\n",
    "c=1\n",
    "E=0.1\n",
    "\n",
    "n=100\n",
    "x1=c\n",
    "x2=c\n",
    "delx=10**(-8)\n",
    "d=0.00001\n",
    "def fPrime(x):\n",
    "    return (greg(x+delx)-greg(x-delx))/(2*delx)\n",
    "def L(x):\n",
    "    return greg(c)+ fPrime(c)*(x-c)\n",
    "for i in range(n):\n",
    "    x1-=d\n",
    "    if abs(greg(x1)-L(x1))<= E:\n",
    "        print (x1)\n",
    "        break\n",
    "else: \n",
    "    print (\"no such x1 can be aquired!\")\n",
    "\n",
    "for i in range (n):\n",
    "    x2+=d\n",
    "    if abs(greg(x2)-L(x2))<= E:\n",
    "        print (x2)\n",
    "        break\n",
    "else: \n",
    "    print (\"no such x2 can be aquired!\")\n"
   ]
  },
  {
   "cell_type": "code",
   "execution_count": null,
   "id": "13f19063-c0f1-4835-a774-8de956deea93",
   "metadata": {},
   "outputs": [],
   "source": []
  }
 ],
 "metadata": {
  "kernelspec": {
   "display_name": "Python 3 (ipykernel)",
   "language": "python",
   "name": "python3"
  },
  "language_info": {
   "codemirror_mode": {
    "name": "ipython",
    "version": 3
   },
   "file_extension": ".py",
   "mimetype": "text/x-python",
   "name": "python",
   "nbconvert_exporter": "python",
   "pygments_lexer": "ipython3",
   "version": "3.11.4"
  }
 },
 "nbformat": 4,
 "nbformat_minor": 5
}
